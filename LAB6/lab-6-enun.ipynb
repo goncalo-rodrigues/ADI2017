{
 "cells": [
  {
   "cell_type": "markdown",
   "metadata": {
    "deletable": true,
    "editable": true
   },
   "source": [
    "# Learning and Decision Making"
   ]
  },
  {
   "cell_type": "markdown",
   "metadata": {
    "deletable": true,
    "editable": true
   },
   "source": [
    "## Laboratory 6: Reinforcement learning\n",
    "\n",
    "In the end of the lab, you should submit all code/answers written in the tasks marked as \"Activity n. XXX\", together with the corresponding outputs and any replies to specific questions posed to the e-mail <adi.tecnico@gmail.com>. Make sure that the subject is of the form [&lt;group n.&gt;] LAB &lt;lab n.&gt;."
   ]
  },
  {
   "cell_type": "markdown",
   "metadata": {
    "deletable": true,
    "editable": true
   },
   "source": [
    "### 1. The windy gridworld domain\n",
    "\n",
    "Consider the larger version of the windy gridworld domain depicted in the figure below.\n",
    "\n",
    "<img src=\"windy.png\" width=\"400px\">\n",
    "\n",
    "In it, a boat must navigate a 7 &times; 10 gridworld, to reach the goal cell, marked with _G_. There is a crosswind upward through the middle of the grid, in the direction indicated by the gray arrows. The boat has available the standard four actions -- _Up_, _Down_, _Left_ and _Right_. In the region affected by the wind, however, the resulting next state is shifted upward as a consequence of the crosswind, the strength of which varies from column to column. The strength of the wind is given below each column, and corresponds to the number of cells that the movement is shifted upward. For example, if the boat is one cell to the right of the goal, then the action _Left_ takes you to the cell just above the goal.\n",
    "\n",
    "The agent pays a cost of 1 in every step before reaching the goal. The problem can be described as an MDP $(\\mathcal{X},\\mathcal{A},\\mathbf{P},c,\\gamma)$ as follows."
   ]
  },
  {
   "cell_type": "code",
   "execution_count": 1,
   "metadata": {
    "collapsed": false,
    "deletable": true,
    "editable": true,
    "scrolled": false
   },
   "outputs": [
    {
     "name": "stdout",
     "output_type": "stream",
     "text": [
      "\n",
      "- MDP problem specification: -\n",
      "\n",
      "States:\n",
      "[[0 0]\n",
      " [0 1]\n",
      " [0 2]\n",
      " ..., \n",
      " [6 7]\n",
      " [6 8]\n",
      " [6 9]]\n",
      "\n",
      "Actions:\n",
      "['U', 'D', 'L', 'R']\n",
      "\n",
      "Transition probabilities:\n",
      "Action U\n",
      "[[ 1.  0.  0. ...,  0.  0.  0.]\n",
      " [ 0.  1.  0. ...,  0.  0.  0.]\n",
      " [ 0.  0.  1. ...,  0.  0.  0.]\n",
      " ..., \n",
      " [ 0.  0.  0. ...,  0.  0.  0.]\n",
      " [ 0.  0.  0. ...,  0.  0.  0.]\n",
      " [ 0.  0.  0. ...,  0.  0.  0.]]\n",
      "Action D\n",
      "[[ 0.  0.  0. ...,  0.  0.  0.]\n",
      " [ 0.  0.  0. ...,  0.  0.  0.]\n",
      " [ 0.  0.  0. ...,  0.  0.  0.]\n",
      " ..., \n",
      " [ 0.  0.  0. ...,  0.  0.  0.]\n",
      " [ 0.  0.  0. ...,  0.  1.  0.]\n",
      " [ 0.  0.  0. ...,  0.  0.  1.]]\n",
      "Action L\n",
      "[[ 1.  0.  0. ...,  0.  0.  0.]\n",
      " [ 1.  0.  0. ...,  0.  0.  0.]\n",
      " [ 0.  1.  0. ...,  0.  0.  0.]\n",
      " ..., \n",
      " [ 0.  0.  0. ...,  0.  0.  0.]\n",
      " [ 0.  0.  0. ...,  0.  0.  0.]\n",
      " [ 0.  0.  0. ...,  0.  1.  0.]]\n",
      "Action R\n",
      "[[ 0.  1.  0. ...,  0.  0.  0.]\n",
      " [ 0.  0.  1. ...,  0.  0.  0.]\n",
      " [ 0.  0.  0. ...,  0.  0.  0.]\n",
      " ..., \n",
      " [ 0.  0.  0. ...,  0.  0.  0.]\n",
      " [ 0.  0.  0. ...,  0.  0.  0.]\n",
      " [ 0.  0.  0. ...,  0.  0.  1.]]\n",
      "\n",
      "cost:\n",
      "[[ 1.  1.  1.  1.]\n",
      " [ 1.  1.  1.  1.]\n",
      " [ 1.  1.  1.  1.]\n",
      " ..., \n",
      " [ 1.  1.  1.  1.]\n",
      " [ 1.  1.  1.  1.]\n",
      " [ 1.  1.  1.  1.]]\n",
      "\n",
      "Start state: [3, 0]\n",
      "\n",
      "Goal state: [3, 7]\n"
     ]
    }
   ],
   "source": [
    "import numpy as np\n",
    "import numpy.linalg as la\n",
    "import matplotlib.pyplot as plt\n",
    "\n",
    "np.set_printoptions(threshold=10)\n",
    "\n",
    "# Problem specific parameters\n",
    "WIND = (0, 0, 0, 1, 1, 1, 2, 2, 1, 0)\n",
    "nrows = 7\n",
    "ncols = 10\n",
    "init = [3, 0]\n",
    "goal = [3, 7]\n",
    "\n",
    "# States\n",
    "X = [[x, y] for x in range(nrows) for y in range(ncols)]\n",
    "nX = len(X)\n",
    "\n",
    "# Actions\n",
    "A = ['U', 'D', 'L', 'R']\n",
    "nA = len(A)\n",
    "\n",
    "# Transition probabilities\n",
    "P = dict()\n",
    "P['U'] = np.zeros((nX, nX))\n",
    "P['D'] = np.zeros((nX, nX))\n",
    "P['L'] = np.zeros((nX, nX))\n",
    "P['R'] = np.zeros((nX, nX))\n",
    "\n",
    "for i in range(len(X)):\n",
    "    x = X[i]\n",
    "    y = dict()\n",
    "    \n",
    "    y['U'] = [x[0] - WIND[x[1]] - 1, x[1]]\n",
    "    y['D'] = [x[0] - WIND[x[1]] + 1, x[1]]\n",
    "    y['L'] = [x[0] - WIND[x[1]], x[1] - 1]\n",
    "    y['R'] = [x[0] - WIND[x[1]], x[1] + 1]\n",
    "    \n",
    "    for k in y:\n",
    "        y[k][0] = max(min(y[k][0], nrows - 1), 0)\n",
    "        y[k][1] = max(min(y[k][1], ncols - 1), 0)\n",
    "        j = X.index(y[k])\n",
    "        P[k][i, j] = 1\n",
    "\n",
    "c = np.ones((nX, nA))\n",
    "c[X.index(goal), :] = 0\n",
    "\n",
    "gamma = 0.99\n",
    "\n",
    "# -- Pretty print\n",
    "\n",
    "print('\\n- MDP problem specification: -\\n')\n",
    "\n",
    "print('States:')\n",
    "print(np.array(X))\n",
    "\n",
    "print('\\nActions:')\n",
    "print(A)\n",
    "\n",
    "print('\\nTransition probabilities:')\n",
    "for a in A:\n",
    "    print('Action', a)\n",
    "    print(P[a])\n",
    "    \n",
    "print('\\ncost:')\n",
    "print(c)\n",
    "\n",
    "print('\\nStart state:', init)\n",
    "print('\\nGoal state:', goal)"
   ]
  },
  {
   "cell_type": "markdown",
   "metadata": {
    "deletable": true,
    "editable": true
   },
   "source": [
    "---\n",
    "\n",
    "#### Activity 1.        \n",
    "\n",
    "Compute the optimal _Q_-function for the MDP defined above using value iteration. As your stopping condition, use an error between iterations smaller than `1e-8`.\n",
    "\n",
    "---"
   ]
  },
  {
   "cell_type": "code",
   "execution_count": 2,
   "metadata": {
    "collapsed": false,
    "deletable": true,
    "editable": true,
    "scrolled": false
   },
   "outputs": [
    {
     "name": "stdout",
     "output_type": "stream",
     "text": [
      "[[ 88.97864983  88.97864983  88.97864983  88.86732306]\n",
      " [ 88.86732306  88.86732306  88.97864983  88.75487178]\n",
      " [ 88.75487178  88.75487178  88.86732306  88.64128462]\n",
      " ..., \n",
      " [ 87.18534608  87.44035769  88.29359262  87.31349262]\n",
      " [ 87.31349262  87.44035769  87.44035769  87.56595412]\n",
      " [ 87.56595412  87.56595412  87.44035769  87.56595412]]\n",
      "iterations = 2108\n"
     ]
    }
   ],
   "source": [
    "def calculateQ(q,P=P,c=c):\n",
    "    j = q.min(axis=1).reshape(-1, 1)\n",
    "    result = np.zeros(shape=(nX, nA))\n",
    "    for i in range(nA):\n",
    "        result[:, i] = (c[:, i].reshape(-1, 1) + gamma * P[A[i]].dot(j)).reshape(-1)\n",
    "    return result\n",
    "\n",
    "Q = np.zeros((nX, nA))\n",
    "oldQ = Q\n",
    "err=1\n",
    "iterations=0\n",
    "while err>1e-8:\n",
    "    oldQ = Q\n",
    "    Q = calculateQ(oldQ)\n",
    "    err = np.linalg.norm(Q - oldQ)\n",
    "    iterations+=1\n",
    "print(Q)\n",
    "print('iterations = %d' % iterations)"
   ]
  },
  {
   "cell_type": "markdown",
   "metadata": {
    "deletable": true,
    "editable": true
   },
   "source": [
    "---\n",
    "\n",
    "#### Activity 2.        \n",
    "\n",
    "Write down a Python function that, given a Q-function $Q$ and a state $x$, selects a random action using the $\\epsilon$-greedy policy obtained from $Q$ for state $x$. Your function should receive an optional parameter, corresponding to $\\epsilon$, with default value of 0.1. \n",
    "\n",
    "**Note:** In the case of two actions with the same value, your $\\epsilon$-greedy policy should randomize between the two.\n",
    "\n",
    "---"
   ]
  },
  {
   "cell_type": "code",
   "execution_count": 3,
   "metadata": {
    "collapsed": false,
    "deletable": true,
    "editable": true
   },
   "outputs": [],
   "source": [
    "import random\n",
    "def e_greedy(Q, x, eps=0.1):\n",
    "    if random.random() < eps:\n",
    "        return random.randint(0, nA-1)\n",
    "    else:\n",
    "        return random.choice(np.where(np.isclose(Q[x],Q[x].min())))[0]\n",
    "\n"
   ]
  },
  {
   "cell_type": "markdown",
   "metadata": {
    "collapsed": true,
    "deletable": true,
    "editable": true
   },
   "source": [
    "### 2. Model-based learning\n",
    "\n",
    "You will now run the model-based learning algorithm discussed in class, and evaluate its learning performance."
   ]
  },
  {
   "cell_type": "markdown",
   "metadata": {
    "deletable": true,
    "editable": true
   },
   "source": [
    "---\n",
    "\n",
    "#### Activity 3.        \n",
    "\n",
    "Run the model-based reinforcement learning algorithm discussed in class to compute $Q^*$ for 100,000 iterations. Initialize each transition probability matrix as the identity and the cost function as all-zeros. Use an $\\epsilon$-greedy policy with $\\epsilon=0.1$ (use the function from Activity 2). Note that, at each step,\n",
    "\n",
    "* You will need to select an action according to the $\\epsilon$-greedy policy;\n",
    "* The state and action, you will then compute the cost and generate the next state; \n",
    "* With this transition information (state, action, cost, next-state), you can now perform an update. \n",
    "* When updating the components $(x,a)$ of the model, use the step-size\n",
    "\n",
    "$$\\alpha_t=\\frac{1}{N_t(x,a)+1},$$\n",
    "\n",
    "where $N_t(x,a)$ is the number of visits to the pair $(x,a)$ up to time step $t$.\n",
    "\n",
    "In order to ensure that your algorithm visits every state and action a sufficient number of times, after the boat reaches the goal cell, make one further step, the corresponding update, and then reset the position of the boat to a random state in the environment.\n",
    "\n",
    "Plot the norm $\\|Q^*-Q^{(k)}\\|$ every 500 iterations of your method, where $Q^*$ is the optimal _Q_~function computed in Activity 1.\n",
    "\n",
    "**Note:** The simulation may take a bit. Don't despair.\n",
    "\n",
    "---"
   ]
  },
  {
   "cell_type": "code",
   "execution_count": 4,
   "metadata": {
    "collapsed": false,
    "deletable": true,
    "editable": true,
    "scrolled": true
   },
   "outputs": [
    {
     "data": {
      "image/png": "[encoded data removed]",
      "text/plain": [
       "<matplotlib.figure.Figure at 0x7fbe954599e8>"
      ]
     },
     "metadata": {},
     "output_type": "display_data"
    }
   ],
   "source": [
    "import matplotlib.pyplot as plt\n",
    "N = np.zeros(shape=(nX, nA))\n",
    "P_estimated = dict()\n",
    "P_estimated['U'] = np.identity(nX)\n",
    "P_estimated['D'] = np.identity(nX)\n",
    "P_estimated['L'] = np.identity(nX)\n",
    "P_estimated['R'] = np.identity(nX)\n",
    "c_estimated = np.zeros((nX, nA))\n",
    "Q_estimated = np.zeros((nX, nA))\n",
    "x0 = X.index(init)\n",
    "\n",
    "def simulate(x, a):\n",
    "    newx = np.random.choice(np.arange(nX), p=P[A[a]][x])\n",
    "    cost = c[x,a]\n",
    "    return newx, cost\n",
    "\n",
    "currentx = x0\n",
    "i=0\n",
    "xx_1 = []\n",
    "yy_1 = []\n",
    "costs_1=[]\n",
    "total_costs=0\n",
    "while i < 100000:\n",
    "    action = e_greedy(Q_estimated, currentx)\n",
    "    alpha = 1./(N[currentx,action] +1)\n",
    "    N[currentx, action] += 1\n",
    "    newx, cost = simulate(currentx, action)\n",
    "    II = np.zeros((1, nX))\n",
    "    II[0,newx] = 1\n",
    "    P_estimated[A[action]][currentx,None] += alpha*(II - P_estimated[A[action]][currentx,None])\n",
    "    c_estimated[currentx, action] += alpha*(cost - c_estimated[currentx, action])\n",
    "    Q_estimated[currentx, action] = c_estimated[currentx, action] + gamma * P_estimated[A[action]][currentx].dot(np.amin(Q_estimated,axis=1))\n",
    "    if currentx == X.index(goal):\n",
    "        currentx = x0\n",
    "    else:\n",
    "        currentx = newx\n",
    "        \n",
    "#     print(np.amin(Q_estimated,axis=1))\n",
    "#     Q_estimated[currentx, action] = c_estimated[currentx, action] + gamma * P_estimated[A[action]][currentx].dot(np.amin(Q_estimated,axis=1))\n",
    "    total_costs += cost\n",
    "    i+=1\n",
    "    if (i%500==0):\n",
    "        xx_1.append(i)\n",
    "        yy_1.append(np.linalg.norm(Q_estimated-Q))\n",
    "        costs_1.append(total_costs)\n",
    "        total_costs=0\n",
    "    \n",
    "plt.plot(xx_1,yy_1, color='b')\n",
    "plt.show()\n",
    "    "
   ]
  },
  {
   "cell_type": "markdown",
   "metadata": {
    "deletable": true,
    "editable": true
   },
   "source": [
    "### 3. Temporal-difference learning\n",
    "\n",
    "You will now run both Q-learning and SARSA, and compare their learning performance with that of the model-based method just studied."
   ]
  },
  {
   "cell_type": "markdown",
   "metadata": {
    "deletable": true,
    "editable": true
   },
   "source": [
    "---\n",
    "\n",
    "#### Activity 4.        \n",
    "\n",
    "Repeat Activity 3 but using the _Q_-learning algorithm with a learning rate $\\alpha=0.3$.\n",
    "\n",
    "---"
   ]
  },
  {
   "cell_type": "code",
   "execution_count": 5,
   "metadata": {
    "collapsed": false,
    "deletable": true,
    "editable": true
   },
   "outputs": [
    {
     "data": {
      "image/png": "[encoded data removed]",
      "text/plain": [
       "<matplotlib.figure.Figure at 0x7fbebcbd1d68>"
      ]
     },
     "metadata": {},
     "output_type": "display_data"
    }
   ],
   "source": [
    "Q_estimated = np.zeros((nX, nA))\n",
    "x0 = X.index(init)\n",
    "learning_rate=0.3\n",
    "\n",
    "currentx = x0\n",
    "i=0\n",
    "xx_2=[]\n",
    "yy_2=[]\n",
    "costs_2=[]\n",
    "total_costs=0\n",
    "while i < 100000:\n",
    "    action = e_greedy(Q_estimated, currentx)\n",
    "    newx, cost = simulate(currentx, action)\n",
    "    \n",
    "    Q_estimated[currentx, action] += learning_rate*(cost + gamma*Q_estimated[newx].max() -  Q_estimated[currentx, action])\n",
    "    total_costs+=cost\n",
    "#     print(X[currentx], A[action], cost)\n",
    "    if currentx == X.index(goal):\n",
    "        currentx = x0\n",
    "#         print('goal', total_costs)\n",
    "    else:\n",
    "        currentx = newx\n",
    "    \n",
    "    i+=1\n",
    "    if (i%500==0):\n",
    "        xx_2.append(i)\n",
    "        yy_2.append(np.linalg.norm(Q_estimated-Q))\n",
    "        costs_2.append(total_costs)\n",
    "        total_costs=0\n",
    "\n",
    "plt.plot(xx_2,yy_2, color='g')\n",
    "plt.show()\n",
    "    "
   ]
  },
  {
   "cell_type": "markdown",
   "metadata": {
    "deletable": true,
    "editable": true
   },
   "source": [
    "---\n",
    "\n",
    "#### Activity 5.\n",
    "\n",
    "Repeat Activity 4 but using the SARSA algorithm.\n",
    "\n",
    "---"
   ]
  },
  {
   "cell_type": "code",
   "execution_count": 6,
   "metadata": {
    "collapsed": false,
    "deletable": true,
    "editable": true
   },
   "outputs": [
    {
     "data": {
      "image/png": "[encoded data removed]",
      "text/plain": [
       "<matplotlib.figure.Figure at 0x7fbe93177ef0>"
      ]
     },
     "metadata": {},
     "output_type": "display_data"
    }
   ],
   "source": [
    "Q_estimated = np.zeros((nX, nA))\n",
    "x0 = X.index(init)\n",
    "learning_rate=0.3\n",
    "\n",
    "currentx = x0\n",
    "nextaction = None\n",
    "i=0\n",
    "xx_3=[]\n",
    "yy_3=[]\n",
    "costs_3=[]\n",
    "while i < 100000:\n",
    "    if nextaction is None:\n",
    "        action = e_greedy(Q_estimated, currentx)\n",
    "    else:\n",
    "        action = nextaction\n",
    "    newx, cost = simulate(currentx, action)\n",
    "    nextaction = e_greedy(Q_estimated, newx)\n",
    "    total_costs += cost\n",
    "    Q_estimated[currentx, action] += learning_rate*(cost + gamma*Q_estimated[newx,nextaction] -  Q_estimated[currentx, action])\n",
    "    \n",
    "    if currentx == X.index(goal):\n",
    "        currentx = x0\n",
    "        nextaction = None\n",
    "    else:\n",
    "        currentx = newx\n",
    "    \n",
    "    i+=1\n",
    "    if (i%500==0):\n",
    "        xx_3.append(i)\n",
    "        yy_3.append(np.linalg.norm(Q_estimated-Q))\n",
    "        costs_3.append(total_costs)\n",
    "        total_costs=0\n",
    "\n",
    "plt.plot(xx_3,yy_3,color='r')\n",
    "plt.show()\n",
    "    "
   ]
  },
  {
   "cell_type": "code",
   "execution_count": 7,
   "metadata": {
    "collapsed": false,
    "deletable": true,
    "editable": true
   },
   "outputs": [
    {
     "data": {
      "image/png": "[encoded data removed]",
      "text/plain": [
       "<matplotlib.figure.Figure at 0x7fbe9318a940>"
      ]
     },
     "metadata": {},
     "output_type": "display_data"
    }
   ],
   "source": [
    "p1,=plt.plot(xx_1, yy_1, color='b', label='Model-based learning')\n",
    "p2,=plt.plot(xx_2, yy_2, color='g', label='Q-learning')\n",
    "p3,=plt.plot(xx_3, yy_3, color='r', label='SARSA')\n",
    "plt.legend(handles=[p1, p2,p3])\n",
    "plt.show()"
   ]
  },
  {
   "cell_type": "markdown",
   "metadata": {
    "deletable": true,
    "editable": true
   },
   "source": [
    "---\n",
    "\n",
    "#### Activity 6.\n",
    "\n",
    "Discuss the differences observed between the performance of the three methods.\n",
    "\n",
    "---"
   ]
  },
  {
   "cell_type": "markdown",
   "metadata": {
    "collapsed": false,
    "deletable": true,
    "editable": true
   },
   "source": [
    "The best approach was the Model-based learning. SARSA is the worst algorithm in this case beacuse it is an on-policy algorithm, and the policy chosen is not very good. We believe model-based learning converges quicker because it retains more information (for example, it estimates transition and cost matrixes). Q-learning is an"
   ]
  },
  {
   "cell_type": "code",
   "execution_count": 8,
   "metadata": {
    "collapsed": false,
    "deletable": true,
    "editable": true
   },
   "outputs": [
    {
     "name": "stdout",
     "output_type": "stream",
     "text": [
      "474.221613341 472.416362496 570.184080337\n"
     ]
    }
   ],
   "source": [
    "print(yy_1[-1], yy_2[-1], yy_3[-1])"
   ]
  },
  {
   "cell_type": "code",
   "execution_count": null,
   "metadata": {
    "collapsed": true
   },
   "outputs": [],
   "source": []
  }
 ],
 "metadata": {
  "celltoolbar": "Raw Cell Format",
  "kernelspec": {
   "display_name": "Python 3",
   "language": "python",
   "name": "python3"
  },
  "language_info": {
   "codemirror_mode": {
    "name": "ipython",
    "version": 3
   },
   "file_extension": ".py",
   "mimetype": "text/x-python",
   "name": "python",
   "nbconvert_exporter": "python",
   "pygments_lexer": "ipython3",
   "version": "3.5.2"
  }
 },
 "nbformat": 4,
 "nbformat_minor": 0
}
