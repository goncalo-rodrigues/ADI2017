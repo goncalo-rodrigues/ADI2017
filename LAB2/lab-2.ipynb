{
 "cells": [
  {
   "cell_type": "markdown",
   "metadata": {
    "deletable": true,
    "editable": true
   },
   "source": [
    "# Learning and Decision Making"
   ]
  },
  {
   "cell_type": "markdown",
   "metadata": {
    "deletable": true,
    "editable": true
   },
   "source": [
    "## Laboratory 2: Markov chains\n",
    "\n",
    "In the end of the lab, you should submit all code/answers written in the tasks marked as \"Activity n. XXX\", together with the corresponding outputs and any replies to specific questions posed to the e-mail <adi.tecnico@gmail.com>. Make sure that the subject is of the form [&lt;group n.&gt;] LAB &lt;lab n.&gt;.\n",
    "\n",
    "### 1. Modeling\n",
    "\n",
    "Consider once again the simplified Monopoly game described in the Homework and for which you wrote a Markov chain model:\n",
    "\n",
    "<img src=\"monopoly.png\" width=\"300px\">\n",
    "\n",
    "Recall that your chain should describe a single player, where: \n",
    "\n",
    "* The player rolls a single die in each play; \n",
    "* The jail does not prevent the player from continuing to play. In other words, when landing on the “GO TO JAIL” cell, the player jumps back to the “JAIL” cell, but resumes play immediately."
   ]
  },
  {
   "cell_type": "markdown",
   "metadata": {
    "deletable": true,
    "editable": true
   },
   "source": [
    "---\n",
    "\n",
    "#### Activity 1.        \n",
    "\n",
    "Implement your Markov chain model in Python. In particular,\n",
    "\n",
    "* Create a list with all the states;\n",
    "* Define a `numpy` array with the corresponding transition probabilities.\n",
    "\n",
    "The order for the states used in the transition probability matrix should match that in the list of states. \n",
    "\n",
    "**Note 1**: Don't forget to import `numpy`.\n",
    "\n",
    "**Note 2**: Make sure to print the result in the end.\n",
    "\n",
    "---"
   ]
  },
  {
   "cell_type": "code",
   "execution_count": 1,
   "metadata": {
    "collapsed": false,
    "deletable": true,
    "editable": true
   },
   "outputs": [
    {
     "name": "stdout",
     "output_type": "stream",
     "text": [
      "['go', 'vermont', 'jail', 'virginia', 'parking', 'marvin', 'gotojail', 'pennsylvania']\n",
      "[[ 0.          0.16666667  0.16666667  0.16666667  0.16666667  0.16666667\n",
      "   0.16666667  0.        ]\n",
      " [ 0.          0.          0.16666667  0.16666667  0.16666667  0.16666667\n",
      "   0.16666667  0.16666667]\n",
      " [ 0.16666667  0.          0.          0.16666667  0.16666667  0.16666667\n",
      "   0.16666667  0.16666667]\n",
      " [ 0.16666667  0.16666667  0.          0.          0.16666667  0.16666667\n",
      "   0.16666667  0.16666667]\n",
      " [ 0.16666667  0.16666667  0.16666667  0.          0.          0.16666667\n",
      "   0.16666667  0.16666667]\n",
      " [ 0.16666667  0.16666667  0.16666667  0.16666667  0.          0.\n",
      "   0.16666667  0.16666667]\n",
      " [ 0.          0.          1.          0.          0.          0.          0.\n",
      "   0.        ]\n",
      " [ 0.16666667  0.16666667  0.16666667  0.16666667  0.16666667  0.16666667\n",
      "   0.          0.        ]]\n"
     ]
    }
   ],
   "source": [
    "import numpy as np\n",
    "import scipy.linalg\n",
    "import matplotlib.pyplot as plt\n",
    "states = [\"go\", \"vermont\", \"jail\", \"virginia\", \"parking\", \"marvin\", \"gotojail\", \"pennsylvania\"]\n",
    "P = np.array([[0  , 1/6  , 1/6  , 1/6  , 1/6  , 1/6  , 1/6  , 0  ], [ 0  , 0  , 1/6  , 1/6  , 1/6  , 1/6  , 1/6  , 1/6  ], [ 1/6  , 0  , 0  , 1/6  , 1/6  , 1/6  , 1/6  , 1/6  ], [ 1/6  , 1/6  , 0  , 0  , 1/6  , 1/6  , 1/6  , 1/6  ], [ 1/6  , 1/6  , 1/6  , 0  , 0  , 1/6  , 1/6  , 1/6  ], [ 1/6  , 1/6  , 1/6  , 1/6  , 0  , 0  , 1/6  , 1/6  ], [ 0 , 0 , 1  , 0  , 0  , 0  , 0  , 0  ], [ 1/6 , 1/6  , 1/6  , 1/6  , 1/6  , 1/6  , 0  , 0]])\n",
    "\n",
    "print(states)\n",
    "print(P)"
   ]
  },
  {
   "cell_type": "markdown",
   "metadata": {
    "deletable": true,
    "editable": true
   },
   "source": [
    "---\n",
    "\n",
    "#### Activity 2.\n",
    "\n",
    "Compute the probability of the following trajectories:\n",
    "\n",
    "* \"COLLECT \\$200\" - \"VERMONT AVENUE\" - \"GO TO JAIL\" - \"JAIL\"\n",
    "* \"COLLECT \\$200\" - \"GO TO JAIL\" - \"JAIL\" - \"COLLECT \\$200\"\n",
    "* \"COLLECT \\$200\" - \"PENNSYLVANIA AVENUE\" - \"COLLECT \\$200\"\n",
    "\n",
    "**Note:** Make sure to print the result in the end.\n",
    "\n",
    "---"
   ]
  },
  {
   "cell_type": "code",
   "execution_count": 2,
   "metadata": {
    "collapsed": false,
    "deletable": true,
    "editable": true
   },
   "outputs": [
    {
     "name": "stdout",
     "output_type": "stream",
     "text": [
      "0.0277777777778\n",
      "0.0277777777778\n",
      "0.0\n"
     ]
    }
   ],
   "source": [
    "# P(INITIAL STATE = COLLECT 200) * P(VERMONT|COLLECT 200) * P(GOTOJAIL|VERMONT) * P(JAIL|GOTOJAIL)\n",
    "p1= 1*P[0,1]*P[1,6]*P[6,2]\n",
    "print(p1)\n",
    "\n",
    "# P(INITIAL STATE = COLLECT 200) * P(GOTOJAIL|COLLECT 200) * P(JAIL|GOTOJAIL) * P(COLLECT 200 | JAIL)\n",
    "p2= 1*P[0,6]*P[6,2]*P[2,0]\n",
    "print(p2)\n",
    "\n",
    "# P(INITIAL STATE = COLLECT 200) * P(PENNSYLVANIA|COLLECT 200) * P(COLLECT 200|PENNSYLVANIA)\n",
    "p3= 1*P[0,7]*P[7,0]\n",
    "print(p3)"
   ]
  },
  {
   "cell_type": "markdown",
   "metadata": {
    "deletable": true,
    "editable": true
   },
   "source": [
    "### 2. Stability"
   ]
  },
  {
   "cell_type": "markdown",
   "metadata": {
    "deletable": true,
    "editable": true
   },
   "source": [
    "---\n",
    "\n",
    "#### Activity 3.\n",
    "\n",
    "Justify whether the chain implemented in Activity #1 is:\n",
    "\n",
    "* Irreducible\n",
    "* Aperiodic\n",
    "* Ergodic\n",
    "\n",
    "---"
   ]
  },
  {
   "cell_type": "markdown",
   "metadata": {
    "deletable": true,
    "editable": true
   },
   "source": [
    "Irreducible: the chain is irredicible because all states are reachable from all other states, in this case after 2 or more turns (that is, P^t(x|y) > 0 for t >= 2 for any x,y pair)\n",
    "\n",
    "Aperiodic: all states are reachable to themselves after 2 turns but also after 3 turns (and more). Therefore, the gcd(P^t(x|x)) > 0 for every positive integer t) = gcd(2,3,...) is equal to 1 for every state x. So we conclude every state is aperiodic and therefore the chain is aperodic too\n",
    "\n",
    "Ergodic: the chain is irreducible and aperiodic, therefore it is ergodic.\n"
   ]
  },
  {
   "cell_type": "markdown",
   "metadata": {
    "deletable": true,
    "editable": true
   },
   "source": [
    "---\n",
    "\n",
    "#### Activity 4\n",
    "\n",
    "Compute the stationary distribution for the chain.\n",
    "\n",
    "**Note:** The stationary distribution is a *left* eigenvector of the transition probability matrix associated to the eigenvalue 1. As such, you may find useful the numpy function `numpy.linalg.eig`. Also, recall that the stationary distribution is *a distribution*.\n",
    "\n",
    "---"
   ]
  },
  {
   "cell_type": "code",
   "execution_count": 3,
   "metadata": {
    "collapsed": false,
    "deletable": true,
    "editable": true
   },
   "outputs": [
    {
     "name": "stdout",
     "output_type": "stream",
     "text": [
      "[[ 0.11131135]\n",
      " [ 0.09350154]\n",
      " [ 0.21817025]\n",
      " [ 0.10940316]\n",
      " [ 0.1068589 ]\n",
      " [ 0.12466872]\n",
      " [ 0.12731899]\n",
      " [ 0.10876709]]\n"
     ]
    }
   ],
   "source": [
    "#w, v = np.linalg.eig(P.T)\n",
    "#u = v[:, 0]\n",
    "\n",
    "eigvals, eigvecs, _ = scipy.linalg.eig(P, left=True)  \n",
    "result = eigvecs[:, np.isclose(eigvals, 1)]\n",
    "theor_distr = np.real(result / sum(result))\n",
    "print(theor_distr)"
   ]
  },
  {
   "cell_type": "markdown",
   "metadata": {
    "deletable": true,
    "editable": true
   },
   "source": [
    "### 3. Simulation\n",
    "\n",
    "You are now going to *simulate* the Markov chain that you defined in Question #1."
   ]
  },
  {
   "cell_type": "markdown",
   "metadata": {
    "deletable": true,
    "editable": true
   },
   "source": [
    "---\n",
    "\n",
    "#### Activity 5\n",
    "\n",
    "Generate a 10,000-step long trajectory of the chain defined in Activity #1. \n",
    "\n",
    "---"
   ]
  },
  {
   "cell_type": "code",
   "execution_count": 5,
   "metadata": {
    "collapsed": false,
    "deletable": true,
    "editable": true
   },
   "outputs": [],
   "source": [
    "initial_state = 0\n",
    "current_state = initial_state\n",
    "trajectory = [0]\n",
    "for i in range(10000):\n",
    "    current_state = np.random.choice(len(states), p=P[current_state])\n",
    "    trajectory.append(current_state)\n"
   ]
  },
  {
   "cell_type": "markdown",
   "metadata": {
    "deletable": true,
    "editable": true
   },
   "source": [
    "---\n",
    "\n",
    "#### Activity 6\n",
    "\n",
    "Draw a histogram of the trajectory generated in Activity #5. Make sure that the histogram has one bin for each state. Compare the relative frequencies with the result of Activity #4.\n",
    "\n",
    "**Note**: Don't forget to load `matplotlib`.\n",
    "\n",
    "---"
   ]
  },
  {
   "cell_type": "code",
   "execution_count": 6,
   "metadata": {
    "collapsed": false,
    "deletable": true,
    "editable": true
   },
   "outputs": [
    {
     "data": {
      "image/png": "[encoded data removed]",
      "text/plain": [
       "<matplotlib.figure.Figure at 0x7f8ba8b9ba90>"
      ]
     },
     "metadata": {},
     "output_type": "display_data"
    }
   ],
   "source": [
    "bins_arr = np.arange(-0.5, len(states)+0.5)\n",
    "plt.figure()\n",
    "plt.hist(trajectory,bins=bins_arr, normed=1, align='mid')  \n",
    "plt.xticks(range(len(states)),states)\n",
    "plt.show()"
   ]
  },
  {
   "cell_type": "markdown",
   "metadata": {
    "deletable": true,
    "editable": true
   },
   "source": [
    "The empirical distribution matches the theoretical distribution."
   ]
  }
 ],
 "metadata": {
  "kernelspec": {
   "display_name": "Python 3",
   "language": "python",
   "name": "python3"
  },
  "language_info": {
   "codemirror_mode": {
    "name": "ipython",
    "version": 3
   },
   "file_extension": ".py",
   "mimetype": "text/x-python",
   "name": "python",
   "nbconvert_exporter": "python",
   "pygments_lexer": "ipython3",
   "version": "3.5.2"
  }
 },
 "nbformat": 4,
 "nbformat_minor": 0
}
