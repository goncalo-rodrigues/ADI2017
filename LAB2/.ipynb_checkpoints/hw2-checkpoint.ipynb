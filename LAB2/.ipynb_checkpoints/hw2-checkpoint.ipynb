{
 "cells": [
  {
   "cell_type": "code",
   "execution_count": 5,
   "metadata": {
    "collapsed": false,
    "deletable": true,
    "editable": true
   },
   "outputs": [
    {
     "name": "stdout",
     "output_type": "stream",
     "text": [
      "[0.28 0.16 0.04 0.52]\n",
      "[0.16 0.28 0.52 0.04]\n",
      "[0.04 0.52 0.28 0.16]\n",
      "[0.52 0.04 0.16 0.28]\n",
      "[ 75.3117207   75.3117207   75.9198064   73.45675221]\n",
      "[[100.]\n",
      " [100.]\n",
      " [100.]\n",
      " [  0.]]\n"
     ]
    }
   ],
   "source": [
    "import numpy as np\n",
    "\n",
    "# actions. 0 -> stay; 1-> up/down ; 2->left/right\n",
    "\n",
    "h = np.array([0.6, 0.2, 0.2]) #hare actions\n",
    "p = np.zeros(shape=(3,3))\n",
    "states = [\"V\", \"H\", \"D\", \"S\"]\n",
    "p[0] = np.array([1, 0, 0])\n",
    "p[1] = np.array([0.2, 0.8, 0])\n",
    "p[2] = np.array([0.2, 0, 0.8])\n",
    "\n",
    "P = np.zeros(shape=(3,4,4))\n",
    "# s is one of (V, H, D, S)\n",
    "# a is one of (0, 1, 2)\n",
    "def move(s, a):\n",
    "    if a == 0:\n",
    "        return s\n",
    "    if s == \"V\":\n",
    "        if a == 1:\n",
    "            return \"S\"\n",
    "        if a == 2:\n",
    "            return \"D\"\n",
    "        \n",
    "    if s == \"H\":\n",
    "        if a == 1:\n",
    "            return \"D\"\n",
    "        if a == 2:\n",
    "            return \"S\"\n",
    "        \n",
    "    if s == \"D\":\n",
    "        if a == 1:\n",
    "            return \"H\"\n",
    "        if a == 2:\n",
    "            return \"V\"\n",
    "        \n",
    "    if s == \"S\":\n",
    "        if a == 1:\n",
    "            return \"V\"\n",
    "        if a == 2:\n",
    "            return \"H\"\n",
    "        \n",
    "    return \"ERROR\"\n",
    "\n",
    "\n",
    "for a in range(3):\n",
    "    for s in states:\n",
    "        #s = origin state\n",
    "        for h_action in range(h.shape[0]):\n",
    "            hare_prob = h[h_action]\n",
    "            for w_action in range(p[a].shape[0]):\n",
    "                wolf_prob = p[a, w_action]\n",
    "                P[a, states.index(s), states.index(move(move(s, h_action), w_action))] += hare_prob*wolf_prob\n",
    "    \n",
    "            \n",
    "for row in  P[1]:\n",
    "    print(\"[%s]\" % (' '.join('%04s' % i for i in row)))\n",
    "    \n",
    "c = np.array([[1], [1], [1], [0]])\n",
    "#print(np.dot(x, P[1]))\n",
    "summ = 0\n",
    "J = np.zeros(4)\n",
    "for x in range(4):\n",
    "    X = np.zeros(4)\n",
    "    X[x] = 1\n",
    "    summ = 0\n",
    "    for i in range(10000):\n",
    "        summ += np.dot(np.dot(X, np.linalg.matrix_power(P[0], i)),c)*(0.99**i)\n",
    "    J[x] = summ\n",
    "print(J)\n",
    "I = np.identity(4)\n",
    "# X * (I - y*P)^-1 * C\n",
    "print( np.dot(np.dot(I, np.linalg.inv(I - 0.99*P[0])), c))"
   ]
  },
  {
   "cell_type": "code",
   "execution_count": null,
   "metadata": {
    "collapsed": true,
    "deletable": true,
    "editable": true
   },
   "outputs": [],
   "source": []
  }
 ],
 "metadata": {
  "kernelspec": {
   "display_name": "Python 3",
   "language": "python",
   "name": "python3"
  },
  "language_info": {
   "codemirror_mode": {
    "name": "ipython",
    "version": 3
   },
   "file_extension": ".py",
   "mimetype": "text/x-python",
   "name": "python",
   "nbconvert_exporter": "python",
   "pygments_lexer": "ipython3",
   "version": "3.5.2"
  }
 },
 "nbformat": 4,
 "nbformat_minor": 2
}
