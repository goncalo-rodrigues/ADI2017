{
 "cells": [
  {
   "cell_type": "markdown",
   "metadata": {
    "deletable": true,
    "editable": true
   },
   "source": [
    "# Learning and Decision Making"
   ]
  },
  {
   "cell_type": "markdown",
   "metadata": {
    "deletable": true,
    "editable": true
   },
   "source": [
    "## Laboratory 4: Partially observable Markov decision problems\n",
    "\n",
    "In the end of the lab, you should submit all code/answers written in the tasks marked as \"Activity n. XXX\", together with the corresponding outputs and any replies to specific questions posed to the e-mail <adi.tecnico@gmail.com>. Make sure that the subject is of the form [&lt;group n.&gt;] LAB &lt;lab n.&gt;."
   ]
  },
  {
   "cell_type": "markdown",
   "metadata": {
    "deletable": true,
    "editable": true
   },
   "source": [
    "### 1. Modeling\n",
    "\n",
    "Consider once again the guessing game domain described in the Homework and which you described as a POMDP.\n",
    "\n",
    "Recall that:\n",
    "\n",
    "* The opponent can hold one of two cards in hand: an Ace of Clubs (A&clubs;) and an Ace of Diamonds (A&diams;). The agent must guess which card the opponent is holding. \n",
    "\n",
    "* For every right answer, the agent wins 1EUR, and every wrong answer costs the agent 1EUR. \n",
    "\n",
    "* The agent can also try to _peek_. \n",
    "\n",
    "* When the agent peeks, it sees the right card with a probability of 0.9 and the wrong card with probability 0.1.\n",
    "\n",
    "* The game restarts whenever the agent makes a guess.\n",
    "\n",
    "Consider throughout that $\\gamma=0.9$."
   ]
  },
  {
   "cell_type": "markdown",
   "metadata": {
    "deletable": true,
    "editable": true
   },
   "source": [
    "---\n",
    "\n",
    "#### Activity 1.        \n",
    "\n",
    "Implement your POMDP in Python. In particular,\n",
    "\n",
    "* Create a list with all the states;\n",
    "* Create a list with all the actions;\n",
    "* Create a list with all the observations\n",
    "* For each action, define a `numpy` array with the corresponding transition probabilities;\n",
    "* For each action, define a `numpy` array with the corresponding observation probabilities;\n",
    "* Define a `numpy`array with the cost that you defined in your homework.\n",
    "\n",
    "The order for the states and actions used in the transition probability and cost matrices should match that in the lists of states and actions. \n",
    "\n",
    "**Note**: Don't forget to import `numpy`.\n",
    "\n",
    "---"
   ]
  },
  {
   "cell_type": "code",
   "execution_count": 1,
   "metadata": {
    "collapsed": false,
    "deletable": true,
    "editable": true,
    "scrolled": false
   },
   "outputs": [
    {
     "name": "stdout",
     "output_type": "stream",
     "text": [
      "Ppeek\n",
      " [[ 1.  0.]\n",
      " [ 0.  1.]]\n",
      "PAc\n",
      " [[ 0.5  0.5]\n",
      " [ 0.5  0.5]]\n",
      "PAd\n",
      " [[ 0.5  0.5]\n",
      " [ 0.5  0.5]]\n",
      "OPeek\n",
      " [[ 0.9  0.1  0. ]\n",
      " [ 0.1  0.9  0. ]]\n",
      "OAc\n",
      " [[ 0.  0.  1.]\n",
      " [ 0.  0.  1.]]\n",
      "OAd\n",
      " [[ 0.  0.  1.]\n",
      " [ 0.  0.  1.]]\n",
      "c\n",
      " [[ 0.5  0.   1. ]\n",
      " [ 0.5  1.   0. ]]\n"
     ]
    }
   ],
   "source": [
    "import numpy as np\n",
    "states = ['Ac', 'Ad']\n",
    "actions = ['peek', 'guessAc', 'guessAd']\n",
    "observations = ['seeAc', 'seeAd', 'seeNothing']\n",
    "\n",
    "Ppeek = np.identity(2)\n",
    "PAc = np.ones((2,2)) * 0.5\n",
    "PAd = PAc\n",
    "\n",
    "P = np.zeros((3,2,2))\n",
    "P[0] = Ppeek\n",
    "P[1] = PAc\n",
    "P[2] = PAd\n",
    "\n",
    "Opeek = np.zeros((2,3))\n",
    "Opeek[:, 0] = [0.9, 0.1]\n",
    "Opeek[:, 1] = [0.1, 0.9]\n",
    "OAc = np.zeros((2,3))\n",
    "OAc[:, 2] = 1\n",
    "OAd = OAc\n",
    "\n",
    "O = np.zeros((3,2,3))\n",
    "O[0] = Opeek\n",
    "O[1] = OAc\n",
    "O[2] = OAd\n",
    "\n",
    "c = np.ones((2,3))\n",
    "c[:,0] = [0.5, 0.5]\n",
    "c[:,1] = [0, 1]\n",
    "c[:,2] = [1, 0]\n",
    "\n",
    "print('Ppeek\\n', Ppeek)\n",
    "print('PAc\\n', PAc)\n",
    "print('PAd\\n', PAd)\n",
    "print('OPeek\\n', Opeek)\n",
    "print('OAc\\n', OAc)\n",
    "print('OAd\\n', OAd)\n",
    "print('c\\n', c)"
   ]
  },
  {
   "cell_type": "markdown",
   "metadata": {
    "deletable": true,
    "editable": true
   },
   "source": [
    "### 2. Sampling\n",
    "\n",
    "You are now going to sample random trajectories of your POMDP and observe the impact it has on the corresponding belief."
   ]
  },
  {
   "cell_type": "markdown",
   "metadata": {
    "deletable": true,
    "editable": true,
    "raw_mimetype": "text/latex"
   },
   "source": [
    "---\n",
    "\n",
    "#### Activity 2.\n",
    "\n",
    "Generate a random POMDP trajectory using a uniformly random policy. In particular, from a random initial state $x_0$ generate:\n",
    "\n",
    "1. A sequence of 10,000 states by selecting the actions uniformly at random;\n",
    "2. The corresponding sequence of 10,000 actions;\n",
    "3. The corresponding sequence of 10,000 observations.\n",
    "\n",
    "---"
   ]
  },
  {
   "cell_type": "code",
   "execution_count": 2,
   "metadata": {
    "collapsed": false,
    "deletable": true,
    "editable": true
   },
   "outputs": [],
   "source": [
    "\n",
    "def get_random_trajectory(x0, n=10000):\n",
    "    indexx = states.index(x0)\n",
    "    x = np.zeros(2)\n",
    "    x[indexx] = 1\n",
    "    trajectory_states = []\n",
    "    trajectory_actions = []\n",
    "    trajectory_observations = []\n",
    "    current_state = x\n",
    "    for i in range(n):\n",
    "        action = np.random.choice(len(actions))\n",
    "        Paction = P[action]\n",
    "        Oaction = O[action]\n",
    "        index_state = np.random.choice(len(states), p = current_state.dot(Paction))\n",
    "        current_state = np.zeros(2)\n",
    "        current_state[index_state] = 1\n",
    "        obs = np.random.choice(len(observations), p = current_state.dot(Oaction))\n",
    "        \n",
    "        trajectory_states.append(states[current_state.argmax()])\n",
    "        trajectory_actions.append(actions[action])\n",
    "        trajectory_observations.append(observations[obs])\n",
    "    return trajectory_states, trajectory_actions, trajectory_observations\n",
    "        \n",
    "rnd_s, rnd_a, rnd_o = get_random_trajectory(states[np.random.choice(len(states))])\n",
    "    "
   ]
  },
  {
   "cell_type": "markdown",
   "metadata": {
    "deletable": true,
    "editable": true
   },
   "source": [
    "---\n",
    "\n",
    "#### Activity 3.\n",
    "\n",
    "For the POMDP trajectory generated in Activity 2, compute the corresponding sequence of beliefs, assuming that the initial belief is $\\mathbf{b}_0=[0.5, 0.5]$. Report the resulting beliefs, ignoring duplicate beliefs or beliefs whose distance is smaller than $10^{-4}$.\n",
    "\n",
    "**Note 1:** You may want to define a function `belief_update` that receives a belief, an action and an observation and returns the updated belief.\n",
    "\n",
    "**Note 2:** To compute the distance between vectors, you may find useful `numpy`'s function `linalg.norm`.\n",
    "\n",
    "\n",
    "---"
   ]
  },
  {
   "cell_type": "code",
   "execution_count": 3,
   "metadata": {
    "collapsed": false,
    "deletable": true,
    "editable": true,
    "scrolled": false
   },
   "outputs": [
    {
     "name": "stdout",
     "output_type": "stream",
     "text": [
      "[array([ 0.5,  0.5]), array([ 0.1,  0.9]), array([ 0.9,  0.1]), array([ 0.98780488,  0.01219512]), array([ 0.01219512,  0.98780488]), array([ 0.00136986,  0.99863014]), array([  1.52392563e-04,   9.99847607e-01]), array([ 0.99863014,  0.00136986]), array([  9.99847607e-01,   1.52392563e-04])]\n"
     ]
    }
   ],
   "source": [
    "\n",
    "# b is the belief\n",
    "# a is the index of the action\n",
    "# z is the index of the observation\n",
    "def belief_update(b, a, z):\n",
    "    res = b.dot(P[a]).dot(np.diag(O[a][:, z]))\n",
    "    return res/np.sum(res)\n",
    "\n",
    "current_belief = np.ones(2) * 0.5\n",
    "beliefs = []\n",
    "beliefs.append(current_belief)\n",
    "for i in range(len(rnd_s)):\n",
    "    current_belief = belief_update(current_belief, actions.index(rnd_a[i]), observations.index(rnd_o[i]))\n",
    "    is_dup = False\n",
    "    for k in beliefs:\n",
    "        if (np.linalg.norm(current_belief - k) < 10e-4):\n",
    "            is_dup = True\n",
    "            break\n",
    "    if (not is_dup):\n",
    "        beliefs.append(current_belief)\n",
    "    \n",
    "print(beliefs)"
   ]
  },
  {
   "cell_type": "markdown",
   "metadata": {
    "deletable": true,
    "editable": true
   },
   "source": [
    "### 3. Solution methods\n",
    "\n",
    "In this section you are going to compare different non-exact solution methods."
   ]
  },
  {
   "cell_type": "markdown",
   "metadata": {
    "deletable": true,
    "editable": true
   },
   "source": [
    "---\n",
    "\n",
    "#### Activity 4\n",
    "\n",
    "Compute the solution for the underlying MDP and report the corresponding optimal policy and optimal cost-to-go. \n",
    "\n",
    "** Note:** You may reuse code from previous labs.\n",
    "\n",
    "---"
   ]
  },
  {
   "cell_type": "code",
   "execution_count": 4,
   "metadata": {
    "collapsed": true
   },
   "outputs": [],
   "source": [
    "def evaluate(probs, policy, costs, gama = 0.99):\n",
    "    # computes transition probabilities for a given policy \n",
    "    Ppolicy = np.einsum('nrm,rn->rm', probs, policy)\n",
    "    # computes cost for a given policy\n",
    "    Cpolicy = np.sum(costs * policy, axis=1).reshape(-1, 1)\n",
    "   \n",
    "    I = np.identity((len(states)))\n",
    "    # computes discounted cost-to-go \n",
    "    return np.dot(np.dot(I, np.linalg.inv(I - gama*Ppolicy)), Cpolicy), Ppolicy, Cpolicy\n",
    "\n",
    "# computes C + gama * PJ for every action. returns an array of J's for every action\n",
    "def calculateQ(j, c, gama):\n",
    "    result = np.zeros(shape=(len(states), len(actions)))\n",
    "    for i in range(len(actions)):\n",
    "        result[:, i] = (c[:, i].reshape(-1, 1) + gama * P[i].dot(j)).reshape(-1)\n",
    "    return result\n",
    "\n",
    "\n",
    "def policy_iteration(gama, P, c):\n",
    "    exit = False\n",
    "    iterations = 0\n",
    "    policy = np.ones(shape = (len(states), len(actions))) / len(actions)\n",
    "    while not exit:\n",
    "        # evaluates policy\n",
    "        ev, _, _ = evaluate(P, policy, c)\n",
    "        # computes Q function\n",
    "        Q = calculateQ(ev, c, gama)\n",
    "        a = np.isclose(Q, Q.min(axis=1).reshape(-1, 1), atol=1e-10, rtol=1e-10)\n",
    "        # improves policy\n",
    "        newpolicy = np.divide(a,np.sum(a, axis=1).reshape(-1, 1))\n",
    "        exit = (policy == newpolicy).all()\n",
    "        policy = newpolicy \n",
    "        iterations += 1\n",
    "    return newpolicy"
   ]
  },
  {
   "cell_type": "code",
   "execution_count": 5,
   "metadata": {
    "collapsed": false,
    "deletable": true,
    "editable": true,
    "scrolled": false
   },
   "outputs": [
    {
     "name": "stdout",
     "output_type": "stream",
     "text": [
      "[[ 0.  1.  0.]\n",
      " [ 0.  0.  1.]]\n",
      "[[ 0.]\n",
      " [ 0.]]\n"
     ]
    }
   ],
   "source": [
    "gama = 0.99\n",
    "optimal_policy_mdp = policy_iteration(gama, P, c)\n",
    "optimal_cost_mdp, _, _ = evaluate(P, optimal_policy_mdp, c, gama)\n",
    "print(optimal_policy_mdp)\n",
    "print(optimal_cost_mdp)"
   ]
  },
  {
   "cell_type": "markdown",
   "metadata": {
    "deletable": true,
    "editable": true
   },
   "source": [
    "---\n",
    "\n",
    "#### Activity 5\n",
    "\n",
    "For each of the beliefs computed in Activity 3, compute the action prescribed by:\n",
    "\n",
    "* The MLS heuristic;\n",
    "* The AV heuristic;\n",
    "* The Q-MDP heuristic.\n",
    "\n",
    "---"
   ]
  },
  {
   "cell_type": "code",
   "execution_count": 6,
   "metadata": {
    "collapsed": false,
    "deletable": true,
    "editable": true,
    "scrolled": false
   },
   "outputs": [
    {
     "name": "stdout",
     "output_type": "stream",
     "text": [
      "                             [ 0.5  0.5]\t mls: guessAc\t avs: guessAc\t qmdp: peek\n",
      "                             [ 0.1  0.9]\t mls: guessAd\t avs: guessAd\t qmdp: guessAd\n",
      "                             [ 0.9  0.1]\t mls: guessAc\t avs: guessAc\t qmdp: guessAc\n",
      "               [ 0.98780488  0.01219512]\t mls: guessAc\t avs: guessAc\t qmdp: guessAc\n",
      "               [ 0.01219512  0.98780488]\t mls: guessAd\t avs: guessAd\t qmdp: guessAd\n",
      "               [ 0.00136986  0.99863014]\t mls: guessAd\t avs: guessAd\t qmdp: guessAd\n",
      "     [  1.52392563e-04   9.99847607e-01]\t mls: guessAd\t avs: guessAd\t qmdp: guessAd\n",
      "               [ 0.99863014  0.00136986]\t mls: guessAc\t avs: guessAc\t qmdp: guessAc\n",
      "     [  9.99847607e-01   1.52392563e-04]\t mls: guessAc\t avs: guessAc\t qmdp: guessAc\n"
     ]
    }
   ],
   "source": [
    "def mls_heuristic(b):\n",
    "    return optimal_policy_mdp[b.argmax()].argmax()\n",
    "    \n",
    "def avs_heuristic(b):\n",
    "    return b.dot(optimal_policy_mdp).argmax()\n",
    "\n",
    "def qmdp_heuristic(b):\n",
    "    return b.dot(calculateQ(optimal_cost_mdp, c, gama)).argmin()\n",
    "\n",
    "for belief in beliefs:\n",
    "    print('%40s\\t mls: %s\\t avs: %s\\t qmdp: %s' % (belief, actions[mls_heuristic(belief)], actions[avs_heuristic(belief)], actions[qmdp_heuristic(belief)]))"
   ]
  },
  {
   "cell_type": "markdown",
   "metadata": {
    "deletable": true,
    "editable": true
   },
   "source": [
    "---\n",
    "\n",
    "#### Activity 6\n",
    "\n",
    "Suppose that the optimal cost-to-go function for the POMDP can be represented using the $\\alpha$-vectors\n",
    "\n",
    "$$\n",
    "\\left\\{\n",
    "\\begin{bmatrix}\n",
    "2.795\\\\\n",
    "3.795\n",
    "\\end{bmatrix},\n",
    "\\begin{bmatrix}\n",
    "3.795\\\\\n",
    "2.795\n",
    "\\end{bmatrix},\n",
    "\\begin{bmatrix}\n",
    "3.105\\\\\n",
    "3.105\n",
    "\\end{bmatrix}\\right\\}$$\n",
    "\n",
    "corresponding to the actions 'Guess clubs', 'Guess diamonds' and 'Peek', respectively. Represent the optimal cost-to-go function and compare the optimal policy with the MDP heuristics from Activity 5 in the beliefs computed in Activity 3.\n",
    "\n",
    "** Note: ** Don't forget to import `matplotlib`, and use the magic `%matplotlib notebook`.\n",
    "\n",
    "---"
   ]
  },
  {
   "cell_type": "code",
   "execution_count": 7,
   "metadata": {
    "collapsed": false,
    "deletable": true,
    "editable": true,
    "scrolled": false
   },
   "outputs": [
    {
     "data": {
      "image/png": "[encoded data removed]",
      "text/plain": [
       "<matplotlib.figure.Figure at 0x223af2e7e48>"
      ]
     },
     "metadata": {},
     "output_type": "display_data"
    }
   ],
   "source": [
    "import matplotlib\n",
    "import matplotlib.pyplot as plt\n",
    "\n",
    "a_clubs = np.array([2.795, 3.795])\n",
    "a_diamonds = np.array([3.795, 2.795])\n",
    "a_peek = np.array([3.105, 3.105])\n",
    "a = np.zeros((3,1,2))\n",
    "a[0]=a_peek\n",
    "a[1]=a_clubs\n",
    "a[2]=a_diamonds\n",
    "plt.axis([0, 1, 2.5, 3.9])\n",
    "plt.plot(a_clubs)\n",
    "plt.plot(a_diamonds)\n",
    "plt.plot(a_peek)\n",
    "plt.show()"
   ]
  },
  {
   "cell_type": "code",
   "execution_count": 17,
   "metadata": {
    "collapsed": false
   },
   "outputs": [
    {
     "name": "stdout",
     "output_type": "stream",
     "text": [
      "[[ 3.105]\n",
      " [ 3.295]\n",
      " [ 3.295]]\n",
      "                             [ 0.5  0.5]\t mls: guessAc\t avs: guessAc\t qmdp: peek \t optimal: peek\n",
      "[[ 3.105]\n",
      " [ 3.695]\n",
      " [ 2.895]]\n",
      "                             [ 0.1  0.9]\t mls: guessAd\t avs: guessAd\t qmdp: guessAd \t optimal: guessAd\n",
      "[[ 3.105]\n",
      " [ 2.895]\n",
      " [ 3.695]]\n",
      "                             [ 0.9  0.1]\t mls: guessAc\t avs: guessAc\t qmdp: guessAc \t optimal: guessAc\n",
      "[[ 3.105     ]\n",
      " [ 2.80719512]\n",
      " [ 3.78280488]]\n",
      "               [ 0.98780488  0.01219512]\t mls: guessAc\t avs: guessAc\t qmdp: guessAc \t optimal: guessAc\n",
      "[[ 3.105     ]\n",
      " [ 3.78280488]\n",
      " [ 2.80719512]]\n",
      "               [ 0.01219512  0.98780488]\t mls: guessAd\t avs: guessAd\t qmdp: guessAd \t optimal: guessAd\n",
      "[[ 3.105     ]\n",
      " [ 3.79363014]\n",
      " [ 2.79636986]]\n",
      "               [ 0.00136986  0.99863014]\t mls: guessAd\t avs: guessAd\t qmdp: guessAd \t optimal: guessAd\n",
      "[[ 3.105     ]\n",
      " [ 3.79484761]\n",
      " [ 2.79515239]]\n",
      "     [  1.52392563e-04   9.99847607e-01]\t mls: guessAd\t avs: guessAd\t qmdp: guessAd \t optimal: guessAd\n",
      "[[ 3.105     ]\n",
      " [ 2.79636986]\n",
      " [ 3.79363014]]\n",
      "               [ 0.99863014  0.00136986]\t mls: guessAc\t avs: guessAc\t qmdp: guessAc \t optimal: guessAc\n",
      "[[ 3.105     ]\n",
      " [ 2.79515239]\n",
      " [ 3.79484761]]\n",
      "     [  9.99847607e-01   1.52392563e-04]\t mls: guessAc\t avs: guessAc\t qmdp: guessAc \t optimal: guessAc\n"
     ]
    }
   ],
   "source": [
    "\n",
    "for belief in beliefs:\n",
    "    r= np.einsum('nm,rnm->rn', belief.reshape(1,2), a)\n",
    "    optimal = np.argmin(r)\n",
    "    print('%40s\\t mls: %s\\t avs: %s\\t qmdp: %s \\t optimal: %s' % (belief, actions[mls_heuristic(belief)], actions[avs_heuristic(belief)], actions[qmdp_heuristic(belief)], actions[optimal]))\n",
    "    \n",
    "    "
   ]
  },
  {
   "cell_type": "code",
   "execution_count": null,
   "metadata": {
    "collapsed": true
   },
   "outputs": [],
   "source": []
  }
 ],
 "metadata": {
  "celltoolbar": "Raw Cell Format",
  "kernelspec": {
   "display_name": "Python 3",
   "language": "python",
   "name": "python3"
  },
  "language_info": {
   "codemirror_mode": {
    "name": "ipython",
    "version": 3
   },
   "file_extension": ".py",
   "mimetype": "text/x-python",
   "name": "python",
   "nbconvert_exporter": "python",
   "pygments_lexer": "ipython3",
   "version": "3.6.0"
  }
 },
 "nbformat": 4,
 "nbformat_minor": 0
}
