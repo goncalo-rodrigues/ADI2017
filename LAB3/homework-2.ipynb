{
 "cells": [
  {
   "cell_type": "code",
   "execution_count": 1,
   "metadata": {
    "collapsed": false,
    "deletable": true,
    "editable": true
   },
   "outputs": [
    {
     "name": "stdout",
     "output_type": "stream",
     "text": [
      "[  0.12   0.04   0.04    0.0    0.0    0.0    0.0    0.0   0.48   0.16   0.16    0.0    0.0    0.0    0.0    0.0]\n",
      "[  0.04   0.12    0.0   0.04    0.0    0.0    0.0    0.0   0.16   0.48    0.0   0.16    0.0    0.0    0.0    0.0]\n",
      "[  0.04    0.0   0.12   0.04    0.0    0.0    0.0    0.0   0.16    0.0   0.48   0.16    0.0    0.0    0.0    0.0]\n",
      "[   0.0   0.04   0.04   0.12    0.0    0.0    0.0    0.0    0.0   0.16   0.16   0.48    0.0    0.0    0.0    0.0]\n",
      "[   0.0    0.0    0.0    0.0   0.12   0.04   0.04    0.0    0.0    0.0    0.0    0.0   0.48   0.16   0.16    0.0]\n",
      "[   0.0    0.0    0.0    0.0   0.04   0.12    0.0   0.04    0.0    0.0    0.0    0.0   0.16   0.48    0.0   0.16]\n",
      "[   0.0    0.0    0.0    0.0   0.04    0.0   0.12   0.04    0.0    0.0    0.0    0.0   0.16    0.0   0.48   0.16]\n",
      "[   0.0    0.0    0.0    0.0    0.0   0.04   0.04   0.12    0.0    0.0    0.0    0.0    0.0   0.16   0.16   0.48]\n",
      "[  0.48   0.16   0.16    0.0    0.0    0.0    0.0    0.0   0.12   0.04   0.04    0.0    0.0    0.0    0.0    0.0]\n",
      "[  0.16   0.48    0.0   0.16    0.0    0.0    0.0    0.0   0.04   0.12    0.0   0.04    0.0    0.0    0.0    0.0]\n",
      "[  0.16    0.0   0.48   0.16    0.0    0.0    0.0    0.0   0.04    0.0   0.12   0.04    0.0    0.0    0.0    0.0]\n",
      "[   0.0   0.16   0.16   0.48    0.0    0.0    0.0    0.0    0.0   0.04   0.04   0.12    0.0    0.0    0.0    0.0]\n",
      "[   0.0    0.0    0.0    0.0   0.48   0.16   0.16    0.0    0.0    0.0    0.0    0.0   0.12   0.04   0.04    0.0]\n",
      "[   0.0    0.0    0.0    0.0   0.16   0.48    0.0   0.16    0.0    0.0    0.0    0.0   0.04   0.12    0.0   0.04]\n",
      "[   0.0    0.0    0.0    0.0   0.16    0.0   0.48   0.16    0.0    0.0    0.0    0.0   0.04    0.0   0.12   0.04]\n",
      "[   0.0    0.0    0.0    0.0    0.0   0.16   0.16   0.48    0.0    0.0    0.0    0.0    0.0   0.04   0.04   0.12]\n",
      "[ 0.2  0.6  0.   0.2  0.   0.   0.   0.   0.   0.   0.   0.   0.   0.   0.\n",
      "  0. ] [ 0.   0.   0.   0.   0.6  0.2  0.2  0.   0.   0.   0.   0.   0.   0.   0.\n",
      "  0. ] [ 0.   0.   0.   0.   0.   0.   0.   0.   0.   0.2  0.2  0.6  0.   0.   0.\n",
      "  0. ] [ 0.   0.   0.   0.   0.   0.   0.   0.   0.   0.   0.   0.   0.2  0.   0.6\n",
      "  0.2]\n"
     ]
    }
   ],
   "source": [
    "import numpy as np\n",
    "states = [\"11\", \"12\", \"13\", \"14\", \"21\", \"22\", \"23\", \"24\", \"31\", \"32\", \"33\", \"34\", \"41\", \"42\", \"43\", \"44\"]\n",
    "moves = [(2, 3), (1, 4), (1, 4), (3, 2)]\n",
    "actions = [\"left\", \"right\", \"up\", \"down\", \"stay\"]\n",
    "\n",
    "def move(action, pos):\n",
    "    if action == \"left\" or action == \"right\":\n",
    "        if pos % 2 == 0:\n",
    "            return pos-1\n",
    "        else:\n",
    "            return pos +1\n",
    "    if action == \"up\" or action == \"down\":\n",
    "        if pos < 3:\n",
    "            return pos+2\n",
    "        else:\n",
    "            return pos -2\n",
    "    return pos\n",
    "\n",
    "\n",
    "    \n",
    "Pstay = np.zeros(shape=(16,16))\n",
    "Pleft = np.zeros(shape=(16,16))\n",
    "Pright = np.zeros(shape=(16,16))\n",
    "Pup = np.zeros(shape=(16,16))\n",
    "Pdown = np.zeros(shape=(16,16))\n",
    "cost = np.ones(shape=(16,5))\n",
    "for w in range(1,5):\n",
    "    for h in range(1,5):\n",
    "        for m in moves[h-1]:\n",
    "            Pstay[states.index(str(w)+str(h)), states.index(str(w)+str(m))] = 0.5 * 0.4\n",
    "        Pstay[states.index(str(w)+str(h)), states.index(str(w)+str(h))] = 0.6\n",
    "            \n",
    "for w in range(1,5):\n",
    "    for h in range(1,5):\n",
    "        for m in moves[h-1]:\n",
    "            Pleft[states.index(str(w)+str(h)), states.index(str(move(\"left\",w))+str(m))] = 0.8 * 0.5*0.4\n",
    "            Pleft[states.index(str(w)+str(h)), states.index(str(w)+str(m))] = 0.2 * 0.5*0.4\n",
    "        Pleft[states.index(str(w)+str(h)), states.index(str(move(\"left\",w)) + str(h))] = 0.8 * 0.6\n",
    "        Pleft[states.index(str(w)+str(h)), states.index(str(w) + str(h))] = 0.2 * 0.6\n",
    "            \n",
    "for w in range(1,5):\n",
    "    for h in range(1,5):\n",
    "        for m in moves[h-1]:\n",
    "            Pright[states.index(str(w)+str(h)), states.index(str(move(\"right\",w))+str(m))] = 0.8 * 0.5*0.4\n",
    "            Pright[states.index(str(w)+str(h)), states.index(str(w)+str(m))] = 0.2 * 0.5*0.4\n",
    "        Pright[states.index(str(w)+str(h)), states.index(str(move(\"right\",w))+str(h))] = 0.8 * 0.6\n",
    "        Pright[states.index(str(w)+str(h)), states.index(str(w)+str(h))] = 0.2 * 0.6\n",
    "            \n",
    "for w in range(1,5):\n",
    "    for h in range(1,5):\n",
    "        for m in moves[h-1]:\n",
    "            Pup[states.index(str(w)+str(h)), states.index(str(move(\"up\",w))+str(m))] = 0.8 * 0.5*0.4\n",
    "            Pup[states.index(str(w)+str(h)), states.index(str(w)+str(m))] = 0.2 * 0.5*0.4\n",
    "        Pup[states.index(str(w)+str(h)), states.index(str(move(\"up\",w))+str(h))] = 0.8 * 0.6\n",
    "        Pup[states.index(str(w)+str(h)), states.index(str(w)+str(h))] = 0.2 * 0.6\n",
    "            \n",
    "for w in range(1,5):\n",
    "    for h in range(1,5):\n",
    "        for m in moves[h-1]:\n",
    "            Pdown[states.index(str(w)+str(h)), states.index(str(move(\"down\",w))+str(m))] = 0.8 * 0.5*0.4\n",
    "            Pdown[states.index(str(w)+str(h)), states.index(str(w)+str(m))] = 0.2 * 0.5*0.4\n",
    "        Pdown[states.index(str(w)+str(h)), states.index(str(move(\"down\",w))+str(h))] = 0.8 * 0.6\n",
    "        Pdown[states.index(str(w)+str(h)), states.index(str(w)+str(h))] = 0.2 * 0.6\n",
    "\n",
    "for row in  Pup:\n",
    "    print(\"[%s]\" % (' '.join('%06s' % i for i in row)))\n",
    "    \n",
    "print(Pstay[1], Pstay[4], Pstay[11], Pstay[14])"
   ]
  },
  {
   "cell_type": "code",
   "execution_count": null,
   "metadata": {
    "collapsed": true,
    "deletable": true,
    "editable": true
   },
   "outputs": [],
   "source": []
  },
  {
   "cell_type": "code",
   "execution_count": null,
   "metadata": {
    "collapsed": true,
    "deletable": true,
    "editable": true
   },
   "outputs": [],
   "source": []
  }
 ],
 "metadata": {
  "kernelspec": {
   "display_name": "Python 3",
   "language": "python",
   "name": "python3"
  },
  "language_info": {
   "codemirror_mode": {
    "name": "ipython",
    "version": 3
   },
   "file_extension": ".py",
   "mimetype": "text/x-python",
   "name": "python",
   "nbconvert_exporter": "python",
   "pygments_lexer": "ipython3",
   "version": "3.5.2"
  }
 },
 "nbformat": 4,
 "nbformat_minor": 2
}
