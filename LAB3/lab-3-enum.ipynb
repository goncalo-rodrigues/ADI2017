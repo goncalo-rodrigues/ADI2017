{
 "cells": [
  {
   "cell_type": "markdown",
   "metadata": {
    "deletable": true,
    "editable": true
   },
   "source": [
    "# Learning and Decision Making"
   ]
  },
  {
   "cell_type": "markdown",
   "metadata": {
    "deletable": true,
    "editable": true
   },
   "source": [
    "## Laboratory 3: Markov decision problems\n",
    "\n",
    "In the end of the lab, you should submit all code/answers written in the tasks marked as \"Activity n. XXX\", together with the corresponding outputs and any replies to specific questions posed to the e-mail <adi.tecnico@gmail.com>. Make sure that the subject is of the form [&lt;group n.&gt;] LAB &lt;lab n.&gt;.\n",
    "\n",
    "### 1. Modeling\n",
    "\n",
    "Consider once again the predator-prey domain described in the Homework and which you described as a Markov decision process.\n",
    "\n",
    "<img src=\"toroidal-world.png\" width=\"400px\">\n",
    "\n",
    "Recall that:\n",
    "\n",
    "* toroidal world \"wraps around\", i.e., an individual exiting through any of the four sides of the grid reenters on the opposite side (see figure above).\n",
    "\n",
    "* At each time step, the hare selects uniformly at random one of the four directions (up, down, left, and right) and moves to the adjacent cell in that direction with a probability 0.4. With a probability 0.6 it remains in the same cell. \n",
    "\n",
    "* The wolf, on the other hand, can select at each time step one of five actions---up (_U_), down (_D_), left (_L_) and right (_R_) or stay (_S_). If it selects action _S_, it remains in the same cell with probability 1.0. Otherwise, the other 4 actions succeed in moving the wolf to the adjacent cell in the corresponding direction with a probability 0.8 and fail with a probability 0.2. \n",
    "\n",
    "* The goal of the wolf is to catch the hare."
   ]
  },
  {
   "cell_type": "markdown",
   "metadata": {
    "deletable": true,
    "editable": true
   },
   "source": [
    "---\n",
    "\n",
    "#### Activity 1.        \n",
    "\n",
    "Implement your Markov decision process in Python. In particular,\n",
    "\n",
    "* Create a list with all the states;\n",
    "* Create a list with all the actions;\n",
    "* For each action, define a `numpy` array with the corresponding transition probabilities;\n",
    "* Define a `numpy`array with the costs\n",
    "\n",
    "The order for the states and actions used in the transition probability and cost matrices should match that in the lists of states and actions. \n",
    "\n",
    "**Note 1**: Don't forget to import `numpy`.\n",
    "\n",
    "**Note 2**: You can define the transition probability matrices for each of the two individuals and then build the combined transition probability matrices using the `numpy.kron` function.\n",
    "\n",
    "---"
   ]
  },
  {
   "cell_type": "code",
   "execution_count": 11,
   "metadata": {
    "collapsed": false,
    "deletable": true,
    "editable": true,
    "scrolled": false
   },
   "outputs": [
    {
     "name": "stdout",
     "output_type": "stream",
     "text": [
      "[[ 0.28  0.16  0.04  0.52]\n",
      " [ 0.16  0.28  0.52  0.04]\n",
      " [ 0.04  0.52  0.28  0.16]\n",
      " [ 0.52  0.04  0.16  0.28]]\n",
      "[[ 0.28  0.16  0.04  0.52]\n",
      " [ 0.16  0.28  0.52  0.04]\n",
      " [ 0.04  0.52  0.28  0.16]\n",
      " [ 0.52  0.04  0.16  0.28]]\n",
      "[[ 0.28  0.16  0.52  0.04]\n",
      " [ 0.16  0.28  0.04  0.52]\n",
      " [ 0.52  0.04  0.28  0.16]\n",
      " [ 0.04  0.52  0.16  0.28]]\n",
      "[[ 0.28  0.16  0.52  0.04]\n",
      " [ 0.16  0.28  0.04  0.52]\n",
      " [ 0.52  0.04  0.28  0.16]\n",
      " [ 0.04  0.52  0.16  0.28]]\n",
      "[[ 0.6  0.   0.2  0.2]\n",
      " [ 0.   0.6  0.2  0.2]\n",
      " [ 0.2  0.2  0.6  0. ]\n",
      " [ 0.2  0.2  0.   0.6]]\n"
     ]
    }
   ],
   "source": [
    "import numpy as np\n",
    "\n",
    "# List with all the states\n",
    "states = [\"V\", \"H\", \"D\", \"S\"]\n",
    "# List with all the actions\n",
    "actions = [\"S\", \"U\", \"D\", \"L\", \"R\"]\n",
    "\n",
    "\n",
    "# Computing P\n",
    "\n",
    "h = np.array([0.6, 0.1,0.1, 0.1, 0.1]) #hare actions\n",
    "p = np.zeros(shape=(5,5))\n",
    "\n",
    "\n",
    "# action probabilities - ignore\n",
    "p[0] = np.array([1, 0, 0, 0, 0])\n",
    "p[1] = np.array([0.2, 0.8, 0, 0, 0])\n",
    "p[2] = np.array([0.2, 0, 0.8, 0, 0])\n",
    "p[3] = np.array([0.2, 0, 0, 0.8, 0])\n",
    "p[4] = np.array([0.2, 0, 0, 0, 0.8])\n",
    "\n",
    "\n",
    "P = np.zeros(shape=(5,4,4))\n",
    "# s is one of (V, H, D, S)\n",
    "# a is one of (0, 1, 2)\n",
    "def move(s, a):\n",
    "    if a == 0:\n",
    "        return s\n",
    "    if s == \"V\":\n",
    "        if a == 1 or a == 2:\n",
    "            return \"S\"\n",
    "        if a == 3 or a == 4:\n",
    "            return \"D\"\n",
    "        \n",
    "    if s == \"H\":\n",
    "        if a == 1 or a == 2:\n",
    "            return \"D\"\n",
    "        if a == 3 or a == 4:\n",
    "            return \"S\"\n",
    "        \n",
    "    if s == \"D\":\n",
    "        if a == 1 or a == 2:\n",
    "            return \"H\"\n",
    "        if a == 3 or a == 4:\n",
    "            return \"V\"\n",
    "        \n",
    "    if s == \"S\":\n",
    "        if a == 1 or a == 2:\n",
    "            return \"V\"\n",
    "        if a == 3 or a == 4:\n",
    "            return \"H\"\n",
    "        \n",
    "    return \"ERROR\"\n",
    "\n",
    "\n",
    "for a in range(5):\n",
    "    for s in states:\n",
    "        #s = origin state\n",
    "        for h_action in range(h.shape[0]):\n",
    "            hare_prob = h[h_action]\n",
    "            for w_action in range(p[a].shape[0]):\n",
    "                wolf_prob = p[a, w_action]\n",
    "                P[a, states.index(s), states.index(move(move(s, h_action), w_action))] += hare_prob*wolf_prob\n",
    "    \n",
    "            \n",
    "\n",
    "# Probabilites for action stay\n",
    "Pstay = P[0]\n",
    "# Probabilites for action up\n",
    "Pup = P[1]\n",
    "# Probabilites for action down\n",
    "Pdown = P[2]\n",
    "# Probabilites for action left\n",
    "Pleft = P[3]\n",
    "# Probabilites for action right\n",
    "Pright = P[4]\n",
    "\n",
    "# Cost function\n",
    "c = np.ones(shape=(len(states), len(actions)))\n",
    "c[states.index('S')] = 0\n",
    "\n",
    "print(Pup)\n",
    "print(Pdown)\n",
    "print(Pleft)\n",
    "print(Pright)\n",
    "print(Pstay)"
   ]
  },
  {
   "cell_type": "markdown",
   "metadata": {
    "deletable": true,
    "editable": true
   },
   "source": [
    "### 2. Prediction\n",
    "\n",
    "You are now going to evaluate a given policy, computing the corresponding cost-to-go."
   ]
  },
  {
   "cell_type": "markdown",
   "metadata": {
    "deletable": true,
    "editable": true,
    "raw_mimetype": "text/latex"
   },
   "source": [
    "---\n",
    "\n",
    "#### Activity 2.\n",
    "\n",
    "Describe the policy that, in each state $(w, h)$, always moves the wolf to the cell closest to the hare. If multiple such cells exist, the wolf should select randomly between the two.\n",
    "\n",
    "For example, suppose that the wolf is in cell 1 and the hare in cell 4 (figure above, left). The wolf should then select randomly between the actions _U_, _D_ (which move the wolf to cell 3), _L_ and _R_ (which move the wolf to cell 2). Conversely, if the wolf is in cell 1 and the hare in cell 3 (figure above, right), the wolf should select randomly between the two actions _U_ and _D_ (which move the wolf to cell 3).\n",
    "\n",
    "**Note:** The policy should be described as a vector with as many rows as there are states and as many columns as there are actions, where the entry _xa_ has the probability of selecting action _a_ in state _x_.\n",
    "\n",
    "---"
   ]
  },
  {
   "cell_type": "code",
   "execution_count": 4,
   "metadata": {
    "collapsed": false,
    "deletable": true,
    "editable": true
   },
   "outputs": [
    {
     "name": "stdout",
     "output_type": "stream",
     "text": [
      "[[ 0.    0.5   0.5   0.    0.  ]\n",
      " [ 0.    0.    0.    0.5   0.5 ]\n",
      " [ 0.    0.25  0.25  0.25  0.25]\n",
      " [ 1.    0.    0.    0.    0.  ]]\n"
     ]
    }
   ],
   "source": [
    "Policy = np.zeros(shape=(len(states), len(actions)))\n",
    "# State V\n",
    "Policy[states.index('V'), actions.index('U')] = 0.5\n",
    "Policy[states.index('V'), actions.index('D')] = 0.5\n",
    "# State H\n",
    "Policy[states.index('H'), actions.index('L')] = 0.5\n",
    "Policy[states.index('H'), actions.index('R')] = 0.5\n",
    "# State D\n",
    "Policy[states.index('D'), actions.index('U')] = 0.25\n",
    "Policy[states.index('D'), actions.index('D')] = 0.25\n",
    "Policy[states.index('D'), actions.index('L')] = 0.25\n",
    "Policy[states.index('D'), actions.index('R')] = 0.25\n",
    "#State S\n",
    "Policy[states.index('S'), actions.index('S')] = 1.\n",
    "print(Policy)"
   ]
  },
  {
   "cell_type": "markdown",
   "metadata": {
    "deletable": true,
    "editable": true
   },
   "source": [
    "---\n",
    "\n",
    "#### Activity 3.\n",
    "\n",
    "Compute the cost-to-go function $J^\\pi$ associated with the policy from Activity 2. Use $\\gamma=0.99$.\n",
    "\n",
    "---"
   ]
  },
  {
   "cell_type": "code",
   "execution_count": 85,
   "metadata": {
    "collapsed": false,
    "deletable": true,
    "editable": true
   },
   "outputs": [
    {
     "name": "stdout",
     "output_type": "stream",
     "text": [
      "[[ 0.28  0.16  0.04  0.52]\n",
      " [ 0.16  0.28  0.04  0.52]\n",
      " [ 0.28  0.28  0.28  0.16]\n",
      " [ 0.2   0.2   0.    0.6 ]]\n",
      "[[ 0.28  0.16  0.04  0.52]\n",
      " [ 0.16  0.28  0.04  0.52]\n",
      " [ 0.28  0.28  0.28  0.16]\n",
      " [ 0.2   0.2   0.    0.6 ]]\n",
      "[[ 44.99671233]\n",
      " [ 44.99671233]\n",
      " [ 45.51480752]\n",
      " [ 43.88841893]]\n"
     ]
    }
   ],
   "source": [
    "Ppolicy = np.zeros(shape=(4,4))\n",
    "# 5x4x4 -> 4x (5x4)\n",
    "# 4x5 -> 5x4\n",
    "# Muk\n",
    "print(np.einsum('nrm,rn->rm', P, Policy))\n",
    "for s in range(len(states)):\n",
    "    for a in range(len(actions)):\n",
    "        Ppolicy[s, :] += Policy[s, a] * P[a, s]\n",
    "Cpolicy = np.sum(c * Policy, axis=1).reshape(len(states), 1)\n",
    "print(Ppolicy)\n",
    "\n",
    "I = np.identity(4)\n",
    "print( np.dot(np.dot(I, np.linalg.inv(I - 0.99*Ppolicy)), Cpolicy))"
   ]
  },
  {
   "cell_type": "markdown",
   "metadata": {
    "deletable": true,
    "editable": true
   },
   "source": [
    "### 3. Control\n",
    "\n",
    "In this section you are going to compare value and policy iteration, both in terms of time and number of iterations."
   ]
  },
  {
   "cell_type": "markdown",
   "metadata": {
    "deletable": true,
    "editable": true
   },
   "source": [
    "---\n",
    "\n",
    "#### Activity 4\n",
    "\n",
    "Show that the policy in Activity 3 is optimal: use value iteration to compute $J^*$ and show that $J^*=J^\\pi$. Track the time and the number of iterations taken to compute $J^*$.\n",
    "\n",
    "**Note 1:** Stop the algorithm when the error between iterations is smaller than $10^{-8}$.\n",
    "\n",
    "**Note 2:** You may find useful the function ``time()`` from the module ``time``.\n",
    "\n",
    "---"
   ]
  },
  {
   "cell_type": "code",
   "execution_count": 83,
   "metadata": {
    "collapsed": false,
    "deletable": true,
    "editable": true,
    "scrolled": false
   },
   "outputs": [
    {
     "name": "stdout",
     "output_type": "stream",
     "text": [
      "[[ 44.99671209]\n",
      " [ 44.99671209]\n",
      " [ 45.51480727]\n",
      " [ 43.88841868]]\n"
     ]
    }
   ],
   "source": [
    "error = 1e-8\n",
    "gama = 0.99\n",
    "j = np.zeros(shape=( len(states), 1))\n",
    "oldj = np.ones(shape=(len(states), 1))\n",
    "def T(c, Pe, jota):\n",
    "    return c + gama * np.dot(Pe, jota)\n",
    "i=0\n",
    "while np.sum(np.abs(oldj - j)) > error:\n",
    "    oldj = j\n",
    "    j = T(Cpolicy, Ppolicy, oldj)\n",
    "print(j)\n",
    "    "
   ]
  },
  {
   "cell_type": "markdown",
   "metadata": {
    "deletable": true,
    "editable": true
   },
   "source": [
    "---\n",
    "\n",
    "#### Activity 5\n",
    "\n",
    "Compute once again the optimal policy now using policy iteration. Track the time and number of iterations taken and compare to those of Activity 4.\n",
    "\n",
    "**Note:** If you find that numerical errors affect your computations (especially when comparing two values/arrays) you may use the `numpy` function `isclose` with adequately set absolute and relative tolerance parameters (e.g., $10^{-8}$).\n",
    "\n",
    "---"
   ]
  },
  {
   "cell_type": "code",
   "execution_count": 5,
   "metadata": {
    "collapsed": false,
    "deletable": true,
    "editable": true,
    "scrolled": false
   },
   "outputs": [],
   "source": [
    "# Insert your code here"
   ]
  },
  {
   "cell_type": "markdown",
   "metadata": {
    "deletable": true,
    "editable": true
   },
   "source": [
    "### 4. Simulation\n",
    "\n",
    "Finally, in this section you will check whether the theoretical computations of the cost-to-go actually correspond to the cost incurred by an agent following a policy."
   ]
  },
  {
   "cell_type": "markdown",
   "metadata": {
    "deletable": true,
    "editable": true
   },
   "source": [
    "---\n",
    "\n",
    "#### Activity 6\n",
    "\n",
    "Starting in each of the two states $x$ in the initial figure, \n",
    "\n",
    "* Generate **100** trajectories of 10,000 steps each, following the optimal policy for the MDP. \n",
    "* For each trajectory, compute the accumulated (discounted) cost. \n",
    "* Compute the average cost over the 100 trajectories.\n",
    "* Compare the resulting value with that computed in Activity 4 for the two states. \n",
    "\n",
    "** Note:** The simulation may take a bit of time, don't despair ☺️.\n",
    "\n",
    "---"
   ]
  },
  {
   "cell_type": "code",
   "execution_count": 6,
   "metadata": {
    "collapsed": false,
    "deletable": true,
    "editable": true
   },
   "outputs": [],
   "source": [
    "# Insert your code here"
   ]
  }
 ],
 "metadata": {
  "celltoolbar": "Raw Cell Format",
  "kernelspec": {
   "display_name": "Python 3",
   "language": "python",
   "name": "python3"
  },
  "language_info": {
   "codemirror_mode": {
    "name": "ipython",
    "version": 3
   },
   "file_extension": ".py",
   "mimetype": "text/x-python",
   "name": "python",
   "nbconvert_exporter": "python",
   "pygments_lexer": "ipython3",
   "version": "3.5.2"
  }
 },
 "nbformat": 4,
 "nbformat_minor": 0
}
